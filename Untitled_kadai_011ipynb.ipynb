{
  "nbformat": 4,
  "nbformat_minor": 0,
  "metadata": {
    "colab": {
      "provenance": [],
      "authorship_tag": "ABX9TyPqBeNCJbsG90JSHu72VUMC",
      "include_colab_link": true
    },
    "kernelspec": {
      "name": "python3",
      "display_name": "Python 3"
    },
    "language_info": {
      "name": "python"
    }
  },
  "cells": [
    {
      "cell_type": "markdown",
      "metadata": {
        "id": "view-in-github",
        "colab_type": "text"
      },
      "source": [
        "<a href=\"https://colab.research.google.com/github/BHAI3104/samurai-terakoya/blob/main/Untitled_kadai_011ipynb.ipynb\" target=\"_parent\"><img src=\"https://colab.research.google.com/assets/colab-badge.svg\" alt=\"Open In Colab\"/></a>"
      ]
    },
    {
      "cell_type": "code",
      "execution_count": 5,
      "metadata": {
        "id": "O48jBnw75ZwH",
        "colab": {
          "base_uri": "https://localhost:8080/"
        },
        "outputId": "f8e03a77-5879-474a-dfc4-87130b408d0a"
      },
      "outputs": [
        {
          "output_type": "stream",
          "name": "stdout",
          "text": [
            "水\n",
            "金\n",
            "地\n",
            "火\n",
            "木\n",
            "土\n",
            "天\n",
            "海\n",
            "冥\n",
            "水\n",
            "金\n",
            "地\n",
            "火\n",
            "木\n",
            "土\n",
            "天\n",
            "海\n",
            "冥\n"
          ]
        }
      ],
      "source": [
        "lilist = [\"水\",\"金\",\"地\",\"火\",\"木\",\"土\",\"天\",\"海\",\"冥\"]\n",
        "for i in list:\n",
        "    print(i)\n",
        "\n",
        "#インデックス数を変数indexに代入する\n",
        "index = 0\n",
        "#インデックス数が要素数より小さい間はlistを出力する\n",
        "while index < len(list):\n",
        "    print(list[index])\n",
        "\n",
        "    index = index + 1"
      ]
    }
  ]
}